{
 "cells": [
  {
   "cell_type": "code",
   "execution_count": 22,
   "metadata": {},
   "outputs": [],
   "source": [
    "import pandas as pd\n",
    "\n",
    "df = pd.read_csv('raw_stream_output.csv')"
   ]
  },
  {
   "cell_type": "code",
   "execution_count": 23,
   "metadata": {},
   "outputs": [
    {
     "data": {
      "text/html": [
       "<div>\n",
       "<style scoped>\n",
       "    .dataframe tbody tr th:only-of-type {\n",
       "        vertical-align: middle;\n",
       "    }\n",
       "\n",
       "    .dataframe tbody tr th {\n",
       "        vertical-align: top;\n",
       "    }\n",
       "\n",
       "    .dataframe thead th {\n",
       "        text-align: right;\n",
       "    }\n",
       "</style>\n",
       "<table border=\"1\" class=\"dataframe\">\n",
       "  <thead>\n",
       "    <tr style=\"text-align: right;\">\n",
       "      <th></th>\n",
       "      <th>created_at</th>\n",
       "      <th>tweet_content</th>\n",
       "      <th>keyword</th>\n",
       "      <th>user_location</th>\n",
       "      <th>entities</th>\n",
       "    </tr>\n",
       "  </thead>\n",
       "  <tbody>\n",
       "    <tr>\n",
       "      <th>0</th>\n",
       "      <td>2021-05-10 15:20:00</td>\n",
       "      <td>@lekinhobala Vc disse que todos os seus manos ...</td>\n",
       "      <td>['Nike']</td>\n",
       "      <td>None</td>\n",
       "      <td>{'hashtags': [], 'urls': [], 'user_mentions': ...</td>\n",
       "    </tr>\n",
       "    <tr>\n",
       "      <th>1</th>\n",
       "      <td>2021-05-10 15:20:15</td>\n",
       "      <td>atualizei minha renda na nubank espero ganhar ...</td>\n",
       "      <td>['Nubank']</td>\n",
       "      <td>São Paulo, Brasil</td>\n",
       "      <td>{'hashtags': [], 'urls': [], 'user_mentions': ...</td>\n",
       "    </tr>\n",
       "    <tr>\n",
       "      <th>2</th>\n",
       "      <td>2021-05-10 15:20:24</td>\n",
       "      <td>@SpfcFrustraca0 @OPedrinkkj Eu trocaria a chut...</td>\n",
       "      <td>['Nike']</td>\n",
       "      <td>None</td>\n",
       "      <td>{'hashtags': [], 'urls': [], 'user_mentions': ...</td>\n",
       "    </tr>\n",
       "    <tr>\n",
       "      <th>3</th>\n",
       "      <td>2021-05-10 15:20:29</td>\n",
       "      <td>@RodrigoBuenoTV A Nike SEMPRE teve uma péssima...</td>\n",
       "      <td>['Nike']</td>\n",
       "      <td>São Paulo, Brasil</td>\n",
       "      <td>{'hashtags': [], 'urls': [], 'user_mentions': ...</td>\n",
       "    </tr>\n",
       "    <tr>\n",
       "      <th>4</th>\n",
       "      <td>2021-05-10 15:20:37</td>\n",
       "      <td>@CEROLZERA Iaê boquinha de Nike, suave meu cria?</td>\n",
       "      <td>['Nike']</td>\n",
       "      <td>Setor Norte</td>\n",
       "      <td>{'hashtags': [], 'urls': [], 'user_mentions': ...</td>\n",
       "    </tr>\n",
       "  </tbody>\n",
       "</table>\n",
       "</div>"
      ],
      "text/plain": [
       "            created_at                                      tweet_content  \\\n",
       "0  2021-05-10 15:20:00  @lekinhobala Vc disse que todos os seus manos ...   \n",
       "1  2021-05-10 15:20:15  atualizei minha renda na nubank espero ganhar ...   \n",
       "2  2021-05-10 15:20:24  @SpfcFrustraca0 @OPedrinkkj Eu trocaria a chut...   \n",
       "3  2021-05-10 15:20:29  @RodrigoBuenoTV A Nike SEMPRE teve uma péssima...   \n",
       "4  2021-05-10 15:20:37   @CEROLZERA Iaê boquinha de Nike, suave meu cria?   \n",
       "\n",
       "      keyword      user_location  \\\n",
       "0    ['Nike']               None   \n",
       "1  ['Nubank']  São Paulo, Brasil   \n",
       "2    ['Nike']               None   \n",
       "3    ['Nike']  São Paulo, Brasil   \n",
       "4    ['Nike']        Setor Norte   \n",
       "\n",
       "                                            entities  \n",
       "0  {'hashtags': [], 'urls': [], 'user_mentions': ...  \n",
       "1  {'hashtags': [], 'urls': [], 'user_mentions': ...  \n",
       "2  {'hashtags': [], 'urls': [], 'user_mentions': ...  \n",
       "3  {'hashtags': [], 'urls': [], 'user_mentions': ...  \n",
       "4  {'hashtags': [], 'urls': [], 'user_mentions': ...  "
      ]
     },
     "execution_count": 23,
     "metadata": {},
     "output_type": "execute_result"
    }
   ],
   "source": [
    "df.head()"
   ]
  },
  {
   "cell_type": "code",
   "execution_count": 24,
   "metadata": {},
   "outputs": [
    {
     "data": {
      "text/plain": [
       "(372, 5)"
      ]
     },
     "execution_count": 24,
     "metadata": {},
     "output_type": "execute_result"
    }
   ],
   "source": [
    "df.shape"
   ]
  },
  {
   "cell_type": "code",
   "execution_count": 25,
   "metadata": {
    "scrolled": true
   },
   "outputs": [],
   "source": [
    "df_dropped = df.drop_duplicates(subset='tweet_content', keep='first', inplace=False)"
   ]
  },
  {
   "cell_type": "code",
   "execution_count": 26,
   "metadata": {},
   "outputs": [
    {
     "data": {
      "text/plain": [
       "(334, 5)"
      ]
     },
     "execution_count": 26,
     "metadata": {},
     "output_type": "execute_result"
    }
   ],
   "source": [
    "df_dropped.shape"
   ]
  },
  {
   "cell_type": "code",
   "execution_count": 27,
   "metadata": {},
   "outputs": [
    {
     "data": {
      "text/html": [
       "<div>\n",
       "<style scoped>\n",
       "    .dataframe tbody tr th:only-of-type {\n",
       "        vertical-align: middle;\n",
       "    }\n",
       "\n",
       "    .dataframe tbody tr th {\n",
       "        vertical-align: top;\n",
       "    }\n",
       "\n",
       "    .dataframe thead th {\n",
       "        text-align: right;\n",
       "    }\n",
       "</style>\n",
       "<table border=\"1\" class=\"dataframe\">\n",
       "  <thead>\n",
       "    <tr style=\"text-align: right;\">\n",
       "      <th></th>\n",
       "      <th>created_at</th>\n",
       "      <th>tweet_content</th>\n",
       "      <th>keyword</th>\n",
       "      <th>user_location</th>\n",
       "      <th>entities</th>\n",
       "    </tr>\n",
       "  </thead>\n",
       "  <tbody>\n",
       "    <tr>\n",
       "      <th>0</th>\n",
       "      <td>2021-05-10 15:20:00</td>\n",
       "      <td>@lekinhobala Vc disse que todos os seus manos ...</td>\n",
       "      <td>['Nike']</td>\n",
       "      <td>None</td>\n",
       "      <td>{'hashtags': [], 'urls': [], 'user_mentions': ...</td>\n",
       "    </tr>\n",
       "    <tr>\n",
       "      <th>1</th>\n",
       "      <td>2021-05-10 15:20:15</td>\n",
       "      <td>atualizei minha renda na nubank espero ganhar ...</td>\n",
       "      <td>['Nubank']</td>\n",
       "      <td>São Paulo, Brasil</td>\n",
       "      <td>{'hashtags': [], 'urls': [], 'user_mentions': ...</td>\n",
       "    </tr>\n",
       "    <tr>\n",
       "      <th>2</th>\n",
       "      <td>2021-05-10 15:20:24</td>\n",
       "      <td>@SpfcFrustraca0 @OPedrinkkj Eu trocaria a chut...</td>\n",
       "      <td>['Nike']</td>\n",
       "      <td>None</td>\n",
       "      <td>{'hashtags': [], 'urls': [], 'user_mentions': ...</td>\n",
       "    </tr>\n",
       "    <tr>\n",
       "      <th>3</th>\n",
       "      <td>2021-05-10 15:20:29</td>\n",
       "      <td>@RodrigoBuenoTV A Nike SEMPRE teve uma péssima...</td>\n",
       "      <td>['Nike']</td>\n",
       "      <td>São Paulo, Brasil</td>\n",
       "      <td>{'hashtags': [], 'urls': [], 'user_mentions': ...</td>\n",
       "    </tr>\n",
       "    <tr>\n",
       "      <th>4</th>\n",
       "      <td>2021-05-10 15:20:37</td>\n",
       "      <td>@CEROLZERA Iaê boquinha de Nike, suave meu cria?</td>\n",
       "      <td>['Nike']</td>\n",
       "      <td>Setor Norte</td>\n",
       "      <td>{'hashtags': [], 'urls': [], 'user_mentions': ...</td>\n",
       "    </tr>\n",
       "  </tbody>\n",
       "</table>\n",
       "</div>"
      ],
      "text/plain": [
       "            created_at                                      tweet_content  \\\n",
       "0  2021-05-10 15:20:00  @lekinhobala Vc disse que todos os seus manos ...   \n",
       "1  2021-05-10 15:20:15  atualizei minha renda na nubank espero ganhar ...   \n",
       "2  2021-05-10 15:20:24  @SpfcFrustraca0 @OPedrinkkj Eu trocaria a chut...   \n",
       "3  2021-05-10 15:20:29  @RodrigoBuenoTV A Nike SEMPRE teve uma péssima...   \n",
       "4  2021-05-10 15:20:37   @CEROLZERA Iaê boquinha de Nike, suave meu cria?   \n",
       "\n",
       "      keyword      user_location  \\\n",
       "0    ['Nike']               None   \n",
       "1  ['Nubank']  São Paulo, Brasil   \n",
       "2    ['Nike']               None   \n",
       "3    ['Nike']  São Paulo, Brasil   \n",
       "4    ['Nike']        Setor Norte   \n",
       "\n",
       "                                            entities  \n",
       "0  {'hashtags': [], 'urls': [], 'user_mentions': ...  \n",
       "1  {'hashtags': [], 'urls': [], 'user_mentions': ...  \n",
       "2  {'hashtags': [], 'urls': [], 'user_mentions': ...  \n",
       "3  {'hashtags': [], 'urls': [], 'user_mentions': ...  \n",
       "4  {'hashtags': [], 'urls': [], 'user_mentions': ...  "
      ]
     },
     "execution_count": 27,
     "metadata": {},
     "output_type": "execute_result"
    }
   ],
   "source": [
    "df_dropped.head()"
   ]
  },
  {
   "cell_type": "code",
   "execution_count": 28,
   "metadata": {},
   "outputs": [],
   "source": [
    "df_dropped.to_csv(path_or_buf='filtered_stream_output-3.csv')"
   ]
  },
  {
   "cell_type": "code",
   "execution_count": 29,
   "metadata": {},
   "outputs": [],
   "source": [
    "df_filtered = pd.read_csv('filtered_stream_output-3.csv')"
   ]
  },
  {
   "cell_type": "code",
   "execution_count": 30,
   "metadata": {},
   "outputs": [
    {
     "data": {
      "text/html": [
       "<div>\n",
       "<style scoped>\n",
       "    .dataframe tbody tr th:only-of-type {\n",
       "        vertical-align: middle;\n",
       "    }\n",
       "\n",
       "    .dataframe tbody tr th {\n",
       "        vertical-align: top;\n",
       "    }\n",
       "\n",
       "    .dataframe thead th {\n",
       "        text-align: right;\n",
       "    }\n",
       "</style>\n",
       "<table border=\"1\" class=\"dataframe\">\n",
       "  <thead>\n",
       "    <tr style=\"text-align: right;\">\n",
       "      <th></th>\n",
       "      <th>Unnamed: 0</th>\n",
       "      <th>created_at</th>\n",
       "      <th>tweet_content</th>\n",
       "      <th>keyword</th>\n",
       "      <th>user_location</th>\n",
       "      <th>entities</th>\n",
       "    </tr>\n",
       "  </thead>\n",
       "  <tbody>\n",
       "    <tr>\n",
       "      <th>0</th>\n",
       "      <td>0</td>\n",
       "      <td>2021-05-10 15:20:00</td>\n",
       "      <td>@lekinhobala Vc disse que todos os seus manos ...</td>\n",
       "      <td>['Nike']</td>\n",
       "      <td>None</td>\n",
       "      <td>{'hashtags': [], 'urls': [], 'user_mentions': ...</td>\n",
       "    </tr>\n",
       "    <tr>\n",
       "      <th>1</th>\n",
       "      <td>1</td>\n",
       "      <td>2021-05-10 15:20:15</td>\n",
       "      <td>atualizei minha renda na nubank espero ganhar ...</td>\n",
       "      <td>['Nubank']</td>\n",
       "      <td>São Paulo, Brasil</td>\n",
       "      <td>{'hashtags': [], 'urls': [], 'user_mentions': ...</td>\n",
       "    </tr>\n",
       "    <tr>\n",
       "      <th>2</th>\n",
       "      <td>2</td>\n",
       "      <td>2021-05-10 15:20:24</td>\n",
       "      <td>@SpfcFrustraca0 @OPedrinkkj Eu trocaria a chut...</td>\n",
       "      <td>['Nike']</td>\n",
       "      <td>None</td>\n",
       "      <td>{'hashtags': [], 'urls': [], 'user_mentions': ...</td>\n",
       "    </tr>\n",
       "    <tr>\n",
       "      <th>3</th>\n",
       "      <td>3</td>\n",
       "      <td>2021-05-10 15:20:29</td>\n",
       "      <td>@RodrigoBuenoTV A Nike SEMPRE teve uma péssima...</td>\n",
       "      <td>['Nike']</td>\n",
       "      <td>São Paulo, Brasil</td>\n",
       "      <td>{'hashtags': [], 'urls': [], 'user_mentions': ...</td>\n",
       "    </tr>\n",
       "    <tr>\n",
       "      <th>4</th>\n",
       "      <td>4</td>\n",
       "      <td>2021-05-10 15:20:37</td>\n",
       "      <td>@CEROLZERA Iaê boquinha de Nike, suave meu cria?</td>\n",
       "      <td>['Nike']</td>\n",
       "      <td>Setor Norte</td>\n",
       "      <td>{'hashtags': [], 'urls': [], 'user_mentions': ...</td>\n",
       "    </tr>\n",
       "  </tbody>\n",
       "</table>\n",
       "</div>"
      ],
      "text/plain": [
       "   Unnamed: 0           created_at  \\\n",
       "0           0  2021-05-10 15:20:00   \n",
       "1           1  2021-05-10 15:20:15   \n",
       "2           2  2021-05-10 15:20:24   \n",
       "3           3  2021-05-10 15:20:29   \n",
       "4           4  2021-05-10 15:20:37   \n",
       "\n",
       "                                       tweet_content     keyword  \\\n",
       "0  @lekinhobala Vc disse que todos os seus manos ...    ['Nike']   \n",
       "1  atualizei minha renda na nubank espero ganhar ...  ['Nubank']   \n",
       "2  @SpfcFrustraca0 @OPedrinkkj Eu trocaria a chut...    ['Nike']   \n",
       "3  @RodrigoBuenoTV A Nike SEMPRE teve uma péssima...    ['Nike']   \n",
       "4   @CEROLZERA Iaê boquinha de Nike, suave meu cria?    ['Nike']   \n",
       "\n",
       "       user_location                                           entities  \n",
       "0               None  {'hashtags': [], 'urls': [], 'user_mentions': ...  \n",
       "1  São Paulo, Brasil  {'hashtags': [], 'urls': [], 'user_mentions': ...  \n",
       "2               None  {'hashtags': [], 'urls': [], 'user_mentions': ...  \n",
       "3  São Paulo, Brasil  {'hashtags': [], 'urls': [], 'user_mentions': ...  \n",
       "4        Setor Norte  {'hashtags': [], 'urls': [], 'user_mentions': ...  "
      ]
     },
     "execution_count": 30,
     "metadata": {},
     "output_type": "execute_result"
    }
   ],
   "source": [
    "df_filtered.head()"
   ]
  },
  {
   "cell_type": "code",
   "execution_count": null,
   "metadata": {},
   "outputs": [],
   "source": []
  }
 ],
 "metadata": {
  "kernelspec": {
   "display_name": "Python 3",
   "language": "python",
   "name": "python3"
  },
  "language_info": {
   "codemirror_mode": {
    "name": "ipython",
    "version": 3
   },
   "file_extension": ".py",
   "mimetype": "text/x-python",
   "name": "python",
   "nbconvert_exporter": "python",
   "pygments_lexer": "ipython3",
   "version": "3.8.5"
  }
 },
 "nbformat": 4,
 "nbformat_minor": 4
}
