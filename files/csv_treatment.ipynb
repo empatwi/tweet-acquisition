{
 "cells": [
  {
   "cell_type": "code",
   "execution_count": 2,
   "metadata": {},
   "outputs": [],
   "source": [
    "import pandas as pd\n",
    "\n",
    "df = pd.read_csv('raw_stream_output.csv')"
   ]
  },
  {
   "cell_type": "code",
   "execution_count": 3,
   "metadata": {},
   "outputs": [
    {
     "data": {
      "text/html": [
       "<div>\n",
       "<style scoped>\n",
       "    .dataframe tbody tr th:only-of-type {\n",
       "        vertical-align: middle;\n",
       "    }\n",
       "\n",
       "    .dataframe tbody tr th {\n",
       "        vertical-align: top;\n",
       "    }\n",
       "\n",
       "    .dataframe thead th {\n",
       "        text-align: right;\n",
       "    }\n",
       "</style>\n",
       "<table border=\"1\" class=\"dataframe\">\n",
       "  <thead>\n",
       "    <tr style=\"text-align: right;\">\n",
       "      <th></th>\n",
       "      <th>created_at</th>\n",
       "      <th>tweet_content</th>\n",
       "      <th>keyword</th>\n",
       "      <th>user_location</th>\n",
       "      <th>entities</th>\n",
       "    </tr>\n",
       "  </thead>\n",
       "  <tbody>\n",
       "    <tr>\n",
       "      <th>0</th>\n",
       "      <td>2021-05-04 12:30:48</td>\n",
       "      <td>mds nubank nunca libera mais limite pra mim</td>\n",
       "      <td>['Nubank']</td>\n",
       "      <td>Goiânia</td>\n",
       "      <td>{'hashtags': [], 'urls': [], 'user_mentions': ...</td>\n",
       "    </tr>\n",
       "    <tr>\n",
       "      <th>1</th>\n",
       "      <td>2021-05-04 12:31:09</td>\n",
       "      <td>mais viciado que a bateria do meu celular só e...</td>\n",
       "      <td>['Coca-cola']</td>\n",
       "      <td>Balneário Camboriú</td>\n",
       "      <td>{'hashtags': [], 'urls': [], 'user_mentions': ...</td>\n",
       "    </tr>\n",
       "    <tr>\n",
       "      <th>2</th>\n",
       "      <td>2021-05-04 12:31:20</td>\n",
       "      <td>@kayofeer @nubank Aconteceu isso c a minha mãe...</td>\n",
       "      <td>['Nubank']</td>\n",
       "      <td>Macaé, Brasil</td>\n",
       "      <td>{'hashtags': [], 'urls': [], 'user_mentions': ...</td>\n",
       "    </tr>\n",
       "    <tr>\n",
       "      <th>3</th>\n",
       "      <td>2021-05-04 12:31:25</td>\n",
       "      <td>Pedi 10k de limite pra Nubank serasi?</td>\n",
       "      <td>['Nubank']</td>\n",
       "      <td>Rio de Janeiro, Brasil</td>\n",
       "      <td>{'hashtags': [], 'urls': [], 'user_mentions': ...</td>\n",
       "    </tr>\n",
       "    <tr>\n",
       "      <th>4</th>\n",
       "      <td>2021-05-04 12:31:27</td>\n",
       "      <td>toda vez que vejo Nubank nos tt vou lá conferi...</td>\n",
       "      <td>['Nubank']</td>\n",
       "      <td>None</td>\n",
       "      <td>{'hashtags': [], 'urls': [], 'user_mentions': ...</td>\n",
       "    </tr>\n",
       "  </tbody>\n",
       "</table>\n",
       "</div>"
      ],
      "text/plain": [
       "            created_at                                      tweet_content  \\\n",
       "0  2021-05-04 12:30:48        mds nubank nunca libera mais limite pra mim   \n",
       "1  2021-05-04 12:31:09  mais viciado que a bateria do meu celular só e...   \n",
       "2  2021-05-04 12:31:20  @kayofeer @nubank Aconteceu isso c a minha mãe...   \n",
       "3  2021-05-04 12:31:25              Pedi 10k de limite pra Nubank serasi?   \n",
       "4  2021-05-04 12:31:27  toda vez que vejo Nubank nos tt vou lá conferi...   \n",
       "\n",
       "         keyword           user_location  \\\n",
       "0     ['Nubank']                 Goiânia   \n",
       "1  ['Coca-cola']      Balneário Camboriú   \n",
       "2     ['Nubank']           Macaé, Brasil   \n",
       "3     ['Nubank']  Rio de Janeiro, Brasil   \n",
       "4     ['Nubank']                    None   \n",
       "\n",
       "                                            entities  \n",
       "0  {'hashtags': [], 'urls': [], 'user_mentions': ...  \n",
       "1  {'hashtags': [], 'urls': [], 'user_mentions': ...  \n",
       "2  {'hashtags': [], 'urls': [], 'user_mentions': ...  \n",
       "3  {'hashtags': [], 'urls': [], 'user_mentions': ...  \n",
       "4  {'hashtags': [], 'urls': [], 'user_mentions': ...  "
      ]
     },
     "execution_count": 3,
     "metadata": {},
     "output_type": "execute_result"
    }
   ],
   "source": [
    "df.head()"
   ]
  },
  {
   "cell_type": "code",
   "execution_count": 4,
   "metadata": {},
   "outputs": [
    {
     "data": {
      "text/plain": [
       "(134, 5)"
      ]
     },
     "execution_count": 4,
     "metadata": {},
     "output_type": "execute_result"
    }
   ],
   "source": [
    "df.shape"
   ]
  },
  {
   "cell_type": "code",
   "execution_count": 5,
   "metadata": {
    "scrolled": true
   },
   "outputs": [],
   "source": [
    "df_dropped = df.drop_duplicates(subset='tweet_content', keep='first', inplace=False)"
   ]
  },
  {
   "cell_type": "code",
   "execution_count": 6,
   "metadata": {},
   "outputs": [
    {
     "data": {
      "text/plain": [
       "(130, 5)"
      ]
     },
     "execution_count": 6,
     "metadata": {},
     "output_type": "execute_result"
    }
   ],
   "source": [
    "df_dropped.shape"
   ]
  },
  {
   "cell_type": "code",
   "execution_count": 7,
   "metadata": {},
   "outputs": [
    {
     "data": {
      "text/html": [
       "<div>\n",
       "<style scoped>\n",
       "    .dataframe tbody tr th:only-of-type {\n",
       "        vertical-align: middle;\n",
       "    }\n",
       "\n",
       "    .dataframe tbody tr th {\n",
       "        vertical-align: top;\n",
       "    }\n",
       "\n",
       "    .dataframe thead th {\n",
       "        text-align: right;\n",
       "    }\n",
       "</style>\n",
       "<table border=\"1\" class=\"dataframe\">\n",
       "  <thead>\n",
       "    <tr style=\"text-align: right;\">\n",
       "      <th></th>\n",
       "      <th>created_at</th>\n",
       "      <th>tweet_content</th>\n",
       "      <th>keyword</th>\n",
       "      <th>user_location</th>\n",
       "      <th>entities</th>\n",
       "    </tr>\n",
       "  </thead>\n",
       "  <tbody>\n",
       "    <tr>\n",
       "      <th>0</th>\n",
       "      <td>2021-05-04 12:30:48</td>\n",
       "      <td>mds nubank nunca libera mais limite pra mim</td>\n",
       "      <td>['Nubank']</td>\n",
       "      <td>Goiânia</td>\n",
       "      <td>{'hashtags': [], 'urls': [], 'user_mentions': ...</td>\n",
       "    </tr>\n",
       "    <tr>\n",
       "      <th>1</th>\n",
       "      <td>2021-05-04 12:31:09</td>\n",
       "      <td>mais viciado que a bateria do meu celular só e...</td>\n",
       "      <td>['Coca-cola']</td>\n",
       "      <td>Balneário Camboriú</td>\n",
       "      <td>{'hashtags': [], 'urls': [], 'user_mentions': ...</td>\n",
       "    </tr>\n",
       "    <tr>\n",
       "      <th>2</th>\n",
       "      <td>2021-05-04 12:31:20</td>\n",
       "      <td>@kayofeer @nubank Aconteceu isso c a minha mãe...</td>\n",
       "      <td>['Nubank']</td>\n",
       "      <td>Macaé, Brasil</td>\n",
       "      <td>{'hashtags': [], 'urls': [], 'user_mentions': ...</td>\n",
       "    </tr>\n",
       "    <tr>\n",
       "      <th>3</th>\n",
       "      <td>2021-05-04 12:31:25</td>\n",
       "      <td>Pedi 10k de limite pra Nubank serasi?</td>\n",
       "      <td>['Nubank']</td>\n",
       "      <td>Rio de Janeiro, Brasil</td>\n",
       "      <td>{'hashtags': [], 'urls': [], 'user_mentions': ...</td>\n",
       "    </tr>\n",
       "    <tr>\n",
       "      <th>4</th>\n",
       "      <td>2021-05-04 12:31:27</td>\n",
       "      <td>toda vez que vejo Nubank nos tt vou lá conferi...</td>\n",
       "      <td>['Nubank']</td>\n",
       "      <td>None</td>\n",
       "      <td>{'hashtags': [], 'urls': [], 'user_mentions': ...</td>\n",
       "    </tr>\n",
       "  </tbody>\n",
       "</table>\n",
       "</div>"
      ],
      "text/plain": [
       "            created_at                                      tweet_content  \\\n",
       "0  2021-05-04 12:30:48        mds nubank nunca libera mais limite pra mim   \n",
       "1  2021-05-04 12:31:09  mais viciado que a bateria do meu celular só e...   \n",
       "2  2021-05-04 12:31:20  @kayofeer @nubank Aconteceu isso c a minha mãe...   \n",
       "3  2021-05-04 12:31:25              Pedi 10k de limite pra Nubank serasi?   \n",
       "4  2021-05-04 12:31:27  toda vez que vejo Nubank nos tt vou lá conferi...   \n",
       "\n",
       "         keyword           user_location  \\\n",
       "0     ['Nubank']                 Goiânia   \n",
       "1  ['Coca-cola']      Balneário Camboriú   \n",
       "2     ['Nubank']           Macaé, Brasil   \n",
       "3     ['Nubank']  Rio de Janeiro, Brasil   \n",
       "4     ['Nubank']                    None   \n",
       "\n",
       "                                            entities  \n",
       "0  {'hashtags': [], 'urls': [], 'user_mentions': ...  \n",
       "1  {'hashtags': [], 'urls': [], 'user_mentions': ...  \n",
       "2  {'hashtags': [], 'urls': [], 'user_mentions': ...  \n",
       "3  {'hashtags': [], 'urls': [], 'user_mentions': ...  \n",
       "4  {'hashtags': [], 'urls': [], 'user_mentions': ...  "
      ]
     },
     "execution_count": 7,
     "metadata": {},
     "output_type": "execute_result"
    }
   ],
   "source": [
    "df_dropped.head()"
   ]
  },
  {
   "cell_type": "code",
   "execution_count": 8,
   "metadata": {},
   "outputs": [],
   "source": [
    "df_dropped.to_csv(path_or_buf='filtered_stream_output.csv')"
   ]
  },
  {
   "cell_type": "code",
   "execution_count": 9,
   "metadata": {},
   "outputs": [],
   "source": [
    "df_filtered = pd.read_csv('filtered_stream_output.csv')"
   ]
  },
  {
   "cell_type": "code",
   "execution_count": 10,
   "metadata": {},
   "outputs": [
    {
     "data": {
      "text/html": [
       "<div>\n",
       "<style scoped>\n",
       "    .dataframe tbody tr th:only-of-type {\n",
       "        vertical-align: middle;\n",
       "    }\n",
       "\n",
       "    .dataframe tbody tr th {\n",
       "        vertical-align: top;\n",
       "    }\n",
       "\n",
       "    .dataframe thead th {\n",
       "        text-align: right;\n",
       "    }\n",
       "</style>\n",
       "<table border=\"1\" class=\"dataframe\">\n",
       "  <thead>\n",
       "    <tr style=\"text-align: right;\">\n",
       "      <th></th>\n",
       "      <th>Unnamed: 0</th>\n",
       "      <th>created_at</th>\n",
       "      <th>tweet_content</th>\n",
       "      <th>keyword</th>\n",
       "      <th>user_location</th>\n",
       "      <th>entities</th>\n",
       "    </tr>\n",
       "  </thead>\n",
       "  <tbody>\n",
       "    <tr>\n",
       "      <th>0</th>\n",
       "      <td>0</td>\n",
       "      <td>2021-05-04 12:30:48</td>\n",
       "      <td>mds nubank nunca libera mais limite pra mim</td>\n",
       "      <td>['Nubank']</td>\n",
       "      <td>Goiânia</td>\n",
       "      <td>{'hashtags': [], 'urls': [], 'user_mentions': ...</td>\n",
       "    </tr>\n",
       "    <tr>\n",
       "      <th>1</th>\n",
       "      <td>1</td>\n",
       "      <td>2021-05-04 12:31:09</td>\n",
       "      <td>mais viciado que a bateria do meu celular só e...</td>\n",
       "      <td>['Coca-cola']</td>\n",
       "      <td>Balneário Camboriú</td>\n",
       "      <td>{'hashtags': [], 'urls': [], 'user_mentions': ...</td>\n",
       "    </tr>\n",
       "    <tr>\n",
       "      <th>2</th>\n",
       "      <td>2</td>\n",
       "      <td>2021-05-04 12:31:20</td>\n",
       "      <td>@kayofeer @nubank Aconteceu isso c a minha mãe...</td>\n",
       "      <td>['Nubank']</td>\n",
       "      <td>Macaé, Brasil</td>\n",
       "      <td>{'hashtags': [], 'urls': [], 'user_mentions': ...</td>\n",
       "    </tr>\n",
       "    <tr>\n",
       "      <th>3</th>\n",
       "      <td>3</td>\n",
       "      <td>2021-05-04 12:31:25</td>\n",
       "      <td>Pedi 10k de limite pra Nubank serasi?</td>\n",
       "      <td>['Nubank']</td>\n",
       "      <td>Rio de Janeiro, Brasil</td>\n",
       "      <td>{'hashtags': [], 'urls': [], 'user_mentions': ...</td>\n",
       "    </tr>\n",
       "    <tr>\n",
       "      <th>4</th>\n",
       "      <td>4</td>\n",
       "      <td>2021-05-04 12:31:27</td>\n",
       "      <td>toda vez que vejo Nubank nos tt vou lá conferi...</td>\n",
       "      <td>['Nubank']</td>\n",
       "      <td>None</td>\n",
       "      <td>{'hashtags': [], 'urls': [], 'user_mentions': ...</td>\n",
       "    </tr>\n",
       "  </tbody>\n",
       "</table>\n",
       "</div>"
      ],
      "text/plain": [
       "   Unnamed: 0           created_at  \\\n",
       "0           0  2021-05-04 12:30:48   \n",
       "1           1  2021-05-04 12:31:09   \n",
       "2           2  2021-05-04 12:31:20   \n",
       "3           3  2021-05-04 12:31:25   \n",
       "4           4  2021-05-04 12:31:27   \n",
       "\n",
       "                                       tweet_content        keyword  \\\n",
       "0        mds nubank nunca libera mais limite pra mim     ['Nubank']   \n",
       "1  mais viciado que a bateria do meu celular só e...  ['Coca-cola']   \n",
       "2  @kayofeer @nubank Aconteceu isso c a minha mãe...     ['Nubank']   \n",
       "3              Pedi 10k de limite pra Nubank serasi?     ['Nubank']   \n",
       "4  toda vez que vejo Nubank nos tt vou lá conferi...     ['Nubank']   \n",
       "\n",
       "            user_location                                           entities  \n",
       "0                 Goiânia  {'hashtags': [], 'urls': [], 'user_mentions': ...  \n",
       "1      Balneário Camboriú  {'hashtags': [], 'urls': [], 'user_mentions': ...  \n",
       "2           Macaé, Brasil  {'hashtags': [], 'urls': [], 'user_mentions': ...  \n",
       "3  Rio de Janeiro, Brasil  {'hashtags': [], 'urls': [], 'user_mentions': ...  \n",
       "4                    None  {'hashtags': [], 'urls': [], 'user_mentions': ...  "
      ]
     },
     "execution_count": 10,
     "metadata": {},
     "output_type": "execute_result"
    }
   ],
   "source": [
    "df_filtered.head()"
   ]
  },
  {
   "cell_type": "code",
   "execution_count": null,
   "metadata": {},
   "outputs": [],
   "source": []
  }
 ],
 "metadata": {
  "kernelspec": {
   "display_name": "Python 3",
   "language": "python",
   "name": "python3"
  },
  "language_info": {
   "codemirror_mode": {
    "name": "ipython",
    "version": 3
   },
   "file_extension": ".py",
   "mimetype": "text/x-python",
   "name": "python",
   "nbconvert_exporter": "python",
   "pygments_lexer": "ipython3",
   "version": "3.8.5"
  }
 },
 "nbformat": 4,
 "nbformat_minor": 4
}
