{
 "cells": [
  {
   "cell_type": "code",
   "execution_count": 68,
   "metadata": {},
   "outputs": [],
   "source": [
    "import pandas as pd\n",
    "\n",
    "df = pd.read_csv('raw_stream_output.csv')"
   ]
  },
  {
   "cell_type": "code",
   "execution_count": 69,
   "metadata": {},
   "outputs": [
    {
     "data": {
      "text/html": [
       "<div>\n",
       "<style scoped>\n",
       "    .dataframe tbody tr th:only-of-type {\n",
       "        vertical-align: middle;\n",
       "    }\n",
       "\n",
       "    .dataframe tbody tr th {\n",
       "        vertical-align: top;\n",
       "    }\n",
       "\n",
       "    .dataframe thead th {\n",
       "        text-align: right;\n",
       "    }\n",
       "</style>\n",
       "<table border=\"1\" class=\"dataframe\">\n",
       "  <thead>\n",
       "    <tr style=\"text-align: right;\">\n",
       "      <th></th>\n",
       "      <th>created_at</th>\n",
       "      <th>tweet_content</th>\n",
       "      <th>keyword</th>\n",
       "      <th>user_location</th>\n",
       "      <th>entities</th>\n",
       "    </tr>\n",
       "  </thead>\n",
       "  <tbody>\n",
       "    <tr>\n",
       "      <th>0</th>\n",
       "      <td>2021-04-11 14:58:39</td>\n",
       "      <td>O Butantan informa que não existe qualquer red...</td>\n",
       "      <td>[]</td>\n",
       "      <td>Brasil</td>\n",
       "      <td>{'hashtags': [], 'urls': [], 'user_mentions': ...</td>\n",
       "    </tr>\n",
       "    <tr>\n",
       "      <th>1</th>\n",
       "      <td>2021-04-11 14:58:39</td>\n",
       "      <td>Hey, @selenagomez! #RedeBBB #BBB21\\r\\nSe tiver...</td>\n",
       "      <td>['BBB']</td>\n",
       "      <td>Brasília, Brazil</td>\n",
       "      <td>{'hashtags': [], 'urls': [], 'user_mentions': ...</td>\n",
       "    </tr>\n",
       "    <tr>\n",
       "      <th>2</th>\n",
       "      <td>2021-04-11 14:58:40</td>\n",
       "      <td>Ei @selenagomez, contrata o Gil do vigor se es...</td>\n",
       "      <td>[]</td>\n",
       "      <td>she/her</td>\n",
       "      <td>{'hashtags': [], 'urls': [], 'user_mentions': ...</td>\n",
       "    </tr>\n",
       "    <tr>\n",
       "      <th>3</th>\n",
       "      <td>2021-04-11 14:58:40</td>\n",
       "      <td>gays com Bolsonaro https://t.co/yrHNO0oRIx</td>\n",
       "      <td>['Bolsonaro']</td>\n",
       "      <td>ela || dela</td>\n",
       "      <td>{'hashtags': [], 'urls': [], 'user_mentions': ...</td>\n",
       "    </tr>\n",
       "    <tr>\n",
       "      <th>4</th>\n",
       "      <td>2021-04-11 14:58:40</td>\n",
       "      <td>Praias são liberadas em meio ao elevado número...</td>\n",
       "      <td>[]</td>\n",
       "      <td>None</td>\n",
       "      <td>{'hashtags': [], 'urls': [{'url': 'https://t.c...</td>\n",
       "    </tr>\n",
       "  </tbody>\n",
       "</table>\n",
       "</div>"
      ],
      "text/plain": [
       "            created_at                                      tweet_content  \\\n",
       "0  2021-04-11 14:58:39  O Butantan informa que não existe qualquer red...   \n",
       "1  2021-04-11 14:58:39  Hey, @selenagomez! #RedeBBB #BBB21\\r\\nSe tiver...   \n",
       "2  2021-04-11 14:58:40  Ei @selenagomez, contrata o Gil do vigor se es...   \n",
       "3  2021-04-11 14:58:40         gays com Bolsonaro https://t.co/yrHNO0oRIx   \n",
       "4  2021-04-11 14:58:40  Praias são liberadas em meio ao elevado número...   \n",
       "\n",
       "         keyword     user_location  \\\n",
       "0             []            Brasil   \n",
       "1        ['BBB']  Brasília, Brazil   \n",
       "2             []           she/her   \n",
       "3  ['Bolsonaro']      ela || dela    \n",
       "4             []              None   \n",
       "\n",
       "                                            entities  \n",
       "0  {'hashtags': [], 'urls': [], 'user_mentions': ...  \n",
       "1  {'hashtags': [], 'urls': [], 'user_mentions': ...  \n",
       "2  {'hashtags': [], 'urls': [], 'user_mentions': ...  \n",
       "3  {'hashtags': [], 'urls': [], 'user_mentions': ...  \n",
       "4  {'hashtags': [], 'urls': [{'url': 'https://t.c...  "
      ]
     },
     "execution_count": 69,
     "metadata": {},
     "output_type": "execute_result"
    }
   ],
   "source": [
    "df.head()"
   ]
  },
  {
   "cell_type": "code",
   "execution_count": 70,
   "metadata": {},
   "outputs": [
    {
     "data": {
      "text/plain": [
       "(253, 5)"
      ]
     },
     "execution_count": 70,
     "metadata": {},
     "output_type": "execute_result"
    }
   ],
   "source": [
    "df.shape"
   ]
  },
  {
   "cell_type": "code",
   "execution_count": 71,
   "metadata": {
    "scrolled": true
   },
   "outputs": [],
   "source": [
    "df_dropped = df.drop_duplicates(subset='tweet_content', keep='first', inplace=False)"
   ]
  },
  {
   "cell_type": "code",
   "execution_count": 72,
   "metadata": {},
   "outputs": [
    {
     "data": {
      "text/plain": [
       "(215, 5)"
      ]
     },
     "execution_count": 72,
     "metadata": {},
     "output_type": "execute_result"
    }
   ],
   "source": [
    "df_dropped.shape"
   ]
  },
  {
   "cell_type": "code",
   "execution_count": 73,
   "metadata": {},
   "outputs": [
    {
     "data": {
      "text/html": [
       "<div>\n",
       "<style scoped>\n",
       "    .dataframe tbody tr th:only-of-type {\n",
       "        vertical-align: middle;\n",
       "    }\n",
       "\n",
       "    .dataframe tbody tr th {\n",
       "        vertical-align: top;\n",
       "    }\n",
       "\n",
       "    .dataframe thead th {\n",
       "        text-align: right;\n",
       "    }\n",
       "</style>\n",
       "<table border=\"1\" class=\"dataframe\">\n",
       "  <thead>\n",
       "    <tr style=\"text-align: right;\">\n",
       "      <th></th>\n",
       "      <th>created_at</th>\n",
       "      <th>tweet_content</th>\n",
       "      <th>keyword</th>\n",
       "      <th>user_location</th>\n",
       "      <th>entities</th>\n",
       "    </tr>\n",
       "  </thead>\n",
       "  <tbody>\n",
       "    <tr>\n",
       "      <th>0</th>\n",
       "      <td>2021-04-11 14:58:39</td>\n",
       "      <td>O Butantan informa que não existe qualquer red...</td>\n",
       "      <td>[]</td>\n",
       "      <td>Brasil</td>\n",
       "      <td>{'hashtags': [], 'urls': [], 'user_mentions': ...</td>\n",
       "    </tr>\n",
       "    <tr>\n",
       "      <th>1</th>\n",
       "      <td>2021-04-11 14:58:39</td>\n",
       "      <td>Hey, @selenagomez! #RedeBBB #BBB21\\r\\nSe tiver...</td>\n",
       "      <td>['BBB']</td>\n",
       "      <td>Brasília, Brazil</td>\n",
       "      <td>{'hashtags': [], 'urls': [], 'user_mentions': ...</td>\n",
       "    </tr>\n",
       "    <tr>\n",
       "      <th>2</th>\n",
       "      <td>2021-04-11 14:58:40</td>\n",
       "      <td>Ei @selenagomez, contrata o Gil do vigor se es...</td>\n",
       "      <td>[]</td>\n",
       "      <td>she/her</td>\n",
       "      <td>{'hashtags': [], 'urls': [], 'user_mentions': ...</td>\n",
       "    </tr>\n",
       "    <tr>\n",
       "      <th>3</th>\n",
       "      <td>2021-04-11 14:58:40</td>\n",
       "      <td>gays com Bolsonaro https://t.co/yrHNO0oRIx</td>\n",
       "      <td>['Bolsonaro']</td>\n",
       "      <td>ela || dela</td>\n",
       "      <td>{'hashtags': [], 'urls': [], 'user_mentions': ...</td>\n",
       "    </tr>\n",
       "    <tr>\n",
       "      <th>4</th>\n",
       "      <td>2021-04-11 14:58:40</td>\n",
       "      <td>Praias são liberadas em meio ao elevado número...</td>\n",
       "      <td>[]</td>\n",
       "      <td>None</td>\n",
       "      <td>{'hashtags': [], 'urls': [{'url': 'https://t.c...</td>\n",
       "    </tr>\n",
       "  </tbody>\n",
       "</table>\n",
       "</div>"
      ],
      "text/plain": [
       "            created_at                                      tweet_content  \\\n",
       "0  2021-04-11 14:58:39  O Butantan informa que não existe qualquer red...   \n",
       "1  2021-04-11 14:58:39  Hey, @selenagomez! #RedeBBB #BBB21\\r\\nSe tiver...   \n",
       "2  2021-04-11 14:58:40  Ei @selenagomez, contrata o Gil do vigor se es...   \n",
       "3  2021-04-11 14:58:40         gays com Bolsonaro https://t.co/yrHNO0oRIx   \n",
       "4  2021-04-11 14:58:40  Praias são liberadas em meio ao elevado número...   \n",
       "\n",
       "         keyword     user_location  \\\n",
       "0             []            Brasil   \n",
       "1        ['BBB']  Brasília, Brazil   \n",
       "2             []           she/her   \n",
       "3  ['Bolsonaro']      ela || dela    \n",
       "4             []              None   \n",
       "\n",
       "                                            entities  \n",
       "0  {'hashtags': [], 'urls': [], 'user_mentions': ...  \n",
       "1  {'hashtags': [], 'urls': [], 'user_mentions': ...  \n",
       "2  {'hashtags': [], 'urls': [], 'user_mentions': ...  \n",
       "3  {'hashtags': [], 'urls': [], 'user_mentions': ...  \n",
       "4  {'hashtags': [], 'urls': [{'url': 'https://t.c...  "
      ]
     },
     "execution_count": 73,
     "metadata": {},
     "output_type": "execute_result"
    }
   ],
   "source": [
    "df_dropped.head()"
   ]
  },
  {
   "cell_type": "code",
   "execution_count": 74,
   "metadata": {},
   "outputs": [],
   "source": [
    "df_dropped.to_csv(path_or_buf='filtered_stream_output.csv')"
   ]
  },
  {
   "cell_type": "code",
   "execution_count": 75,
   "metadata": {},
   "outputs": [],
   "source": [
    "df_filtered = pd.read_csv('filtered_stream_output.csv')"
   ]
  },
  {
   "cell_type": "code",
   "execution_count": 76,
   "metadata": {},
   "outputs": [
    {
     "data": {
      "text/html": [
       "<div>\n",
       "<style scoped>\n",
       "    .dataframe tbody tr th:only-of-type {\n",
       "        vertical-align: middle;\n",
       "    }\n",
       "\n",
       "    .dataframe tbody tr th {\n",
       "        vertical-align: top;\n",
       "    }\n",
       "\n",
       "    .dataframe thead th {\n",
       "        text-align: right;\n",
       "    }\n",
       "</style>\n",
       "<table border=\"1\" class=\"dataframe\">\n",
       "  <thead>\n",
       "    <tr style=\"text-align: right;\">\n",
       "      <th></th>\n",
       "      <th>Unnamed: 0</th>\n",
       "      <th>created_at</th>\n",
       "      <th>tweet_content</th>\n",
       "      <th>keyword</th>\n",
       "      <th>user_location</th>\n",
       "      <th>entities</th>\n",
       "    </tr>\n",
       "  </thead>\n",
       "  <tbody>\n",
       "    <tr>\n",
       "      <th>0</th>\n",
       "      <td>0</td>\n",
       "      <td>2021-04-11 14:58:39</td>\n",
       "      <td>O Butantan informa que não existe qualquer red...</td>\n",
       "      <td>[]</td>\n",
       "      <td>Brasil</td>\n",
       "      <td>{'hashtags': [], 'urls': [], 'user_mentions': ...</td>\n",
       "    </tr>\n",
       "    <tr>\n",
       "      <th>1</th>\n",
       "      <td>1</td>\n",
       "      <td>2021-04-11 14:58:39</td>\n",
       "      <td>Hey, @selenagomez! #RedeBBB #BBB21\\r\\nSe tiver...</td>\n",
       "      <td>['BBB']</td>\n",
       "      <td>Brasília, Brazil</td>\n",
       "      <td>{'hashtags': [], 'urls': [], 'user_mentions': ...</td>\n",
       "    </tr>\n",
       "    <tr>\n",
       "      <th>2</th>\n",
       "      <td>2</td>\n",
       "      <td>2021-04-11 14:58:40</td>\n",
       "      <td>Ei @selenagomez, contrata o Gil do vigor se es...</td>\n",
       "      <td>[]</td>\n",
       "      <td>she/her</td>\n",
       "      <td>{'hashtags': [], 'urls': [], 'user_mentions': ...</td>\n",
       "    </tr>\n",
       "    <tr>\n",
       "      <th>3</th>\n",
       "      <td>3</td>\n",
       "      <td>2021-04-11 14:58:40</td>\n",
       "      <td>gays com Bolsonaro https://t.co/yrHNO0oRIx</td>\n",
       "      <td>['Bolsonaro']</td>\n",
       "      <td>ela || dela</td>\n",
       "      <td>{'hashtags': [], 'urls': [], 'user_mentions': ...</td>\n",
       "    </tr>\n",
       "    <tr>\n",
       "      <th>4</th>\n",
       "      <td>4</td>\n",
       "      <td>2021-04-11 14:58:40</td>\n",
       "      <td>Praias são liberadas em meio ao elevado número...</td>\n",
       "      <td>[]</td>\n",
       "      <td>None</td>\n",
       "      <td>{'hashtags': [], 'urls': [{'url': 'https://t.c...</td>\n",
       "    </tr>\n",
       "  </tbody>\n",
       "</table>\n",
       "</div>"
      ],
      "text/plain": [
       "   Unnamed: 0           created_at  \\\n",
       "0           0  2021-04-11 14:58:39   \n",
       "1           1  2021-04-11 14:58:39   \n",
       "2           2  2021-04-11 14:58:40   \n",
       "3           3  2021-04-11 14:58:40   \n",
       "4           4  2021-04-11 14:58:40   \n",
       "\n",
       "                                       tweet_content        keyword  \\\n",
       "0  O Butantan informa que não existe qualquer red...             []   \n",
       "1  Hey, @selenagomez! #RedeBBB #BBB21\\r\\nSe tiver...        ['BBB']   \n",
       "2  Ei @selenagomez, contrata o Gil do vigor se es...             []   \n",
       "3         gays com Bolsonaro https://t.co/yrHNO0oRIx  ['Bolsonaro']   \n",
       "4  Praias são liberadas em meio ao elevado número...             []   \n",
       "\n",
       "      user_location                                           entities  \n",
       "0            Brasil  {'hashtags': [], 'urls': [], 'user_mentions': ...  \n",
       "1  Brasília, Brazil  {'hashtags': [], 'urls': [], 'user_mentions': ...  \n",
       "2           she/her  {'hashtags': [], 'urls': [], 'user_mentions': ...  \n",
       "3      ela || dela   {'hashtags': [], 'urls': [], 'user_mentions': ...  \n",
       "4              None  {'hashtags': [], 'urls': [{'url': 'https://t.c...  "
      ]
     },
     "execution_count": 76,
     "metadata": {},
     "output_type": "execute_result"
    }
   ],
   "source": [
    "df_filtered.head()"
   ]
  },
  {
   "cell_type": "code",
   "execution_count": null,
   "metadata": {},
   "outputs": [],
   "source": []
  }
 ],
 "metadata": {
  "kernelspec": {
   "display_name": "Python 3",
   "language": "python",
   "name": "python3"
  },
  "language_info": {
   "codemirror_mode": {
    "name": "ipython",
    "version": 3
   },
   "file_extension": ".py",
   "mimetype": "text/x-python",
   "name": "python",
   "nbconvert_exporter": "python",
   "pygments_lexer": "ipython3",
   "version": "3.8.5"
  }
 },
 "nbformat": 4,
 "nbformat_minor": 4
}
